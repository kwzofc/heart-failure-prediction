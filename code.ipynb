{
 "cells": [
  {
   "cell_type": "code",
   "execution_count": 1,
   "id": "d0cb222d",
   "metadata": {},
   "outputs": [],
   "source": [
    "import pandas as pd\n",
    "import numpy as np\n",
    "\n",
    "from sklearn.preprocessing import StandardScaler, LabelEncoder\n",
    "from sklearn.model_selection import train_test_split\n",
    "from sklearn.compose import ColumnTransformer\n",
    "from sklearn.metrics import classification_report\n",
    "\n",
    "from collections import Counter\n",
    "\n",
    "from tensorflow.keras.models import Sequential\n",
    "from tensorflow.keras.layers import InputLayer, Dense\n",
    "from tensorflow.keras.utils import to_categorical"
   ]
  },
  {
   "cell_type": "code",
   "execution_count": 2,
   "id": "7c688007",
   "metadata": {},
   "outputs": [],
   "source": [
    "#Loading the Data\n",
    "data = pd.read_csv('heart_failure_clinical_records_dataset.csv')"
   ]
  },
  {
   "cell_type": "code",
   "execution_count": 3,
   "id": "22b723a2",
   "metadata": {},
   "outputs": [
    {
     "name": "stdout",
     "output_type": "stream",
     "text": [
      "<class 'pandas.core.frame.DataFrame'>\n",
      "RangeIndex: 299 entries, 0 to 298\n",
      "Data columns (total 13 columns):\n",
      " #   Column                    Non-Null Count  Dtype  \n",
      "---  ------                    --------------  -----  \n",
      " 0   age                       299 non-null    float64\n",
      " 1   anaemia                   299 non-null    int64  \n",
      " 2   creatinine_phosphokinase  299 non-null    int64  \n",
      " 3   diabetes                  299 non-null    int64  \n",
      " 4   ejection_fraction         299 non-null    int64  \n",
      " 5   high_blood_pressure       299 non-null    int64  \n",
      " 6   platelets                 299 non-null    float64\n",
      " 7   serum_creatinine          299 non-null    float64\n",
      " 8   serum_sodium              299 non-null    int64  \n",
      " 9   sex                       299 non-null    int64  \n",
      " 10  smoking                   299 non-null    int64  \n",
      " 11  time                      299 non-null    int64  \n",
      " 12  DEATH_EVENT               299 non-null    int64  \n",
      "dtypes: float64(3), int64(10)\n",
      "memory usage: 30.5 KB\n"
     ]
    }
   ],
   "source": [
    "data.info()"
   ]
  },
  {
   "cell_type": "code",
   "execution_count": 4,
   "id": "b21b12df",
   "metadata": {},
   "outputs": [
    {
     "name": "stdout",
     "output_type": "stream",
     "text": [
      "Classes and number of values in the dataset Counter({0: 203, 1: 96})\n"
     ]
    }
   ],
   "source": [
    "print('Classes and number of values in the dataset', Counter(data[\"DEATH_EVENT\"]))\n",
    "#0 = no, 1 = yes"
   ]
  },
  {
   "cell_type": "code",
   "execution_count": 5,
   "id": "47200a0e",
   "metadata": {},
   "outputs": [],
   "source": [
    "y = data[\"DEATH_EVENT\"]\n",
    "x = data.drop(columns=[\"DEATH_EVENT\"])"
   ]
  },
  {
   "cell_type": "code",
   "execution_count": 6,
   "id": "cc1a6f83",
   "metadata": {},
   "outputs": [],
   "source": [
    "#Data preprocessing\n",
    "x = pd.get_dummies(x)"
   ]
  },
  {
   "cell_type": "code",
   "execution_count": 7,
   "id": "e0e608ce",
   "metadata": {},
   "outputs": [],
   "source": [
    "X_train, X_test, Y_train, Y_test = train_test_split(x, y, test_size=0.3, random_state=0)"
   ]
  },
  {
   "cell_type": "code",
   "execution_count": 8,
   "id": "3c97b6b8",
   "metadata": {},
   "outputs": [],
   "source": [
    "ct = ColumnTransformer([('numeric', StandardScaler(), x.columns)])"
   ]
  },
  {
   "cell_type": "code",
   "execution_count": 9,
   "id": "ae947afe",
   "metadata": {},
   "outputs": [],
   "source": [
    "X_train = ct.fit_transform(X_train)\n",
    "X_test = ct.transform(X_test)"
   ]
  },
  {
   "cell_type": "code",
   "execution_count": 10,
   "id": "3e31d14c",
   "metadata": {},
   "outputs": [],
   "source": [
    "#Prepare labels for classification\n",
    "le = LabelEncoder()\n",
    "Y_train = le.fit_transform(Y_train.astype(str))\n",
    "Y_test = le.transform(Y_test.astype(str))\n",
    "Y_train = to_categorical(Y_train)\n",
    "Y_test = to_categorical(Y_test)"
   ]
  },
  {
   "cell_type": "code",
   "execution_count": 11,
   "id": "32f9fc7e",
   "metadata": {},
   "outputs": [],
   "source": [
    "#Design the model\n",
    "model = Sequential()"
   ]
  },
  {
   "cell_type": "code",
   "execution_count": 12,
   "id": "622e6f39",
   "metadata": {},
   "outputs": [],
   "source": [
    "#Create an input layers\n",
    "model.add(InputLayer(input_shape=(X_train.shape[1], )))"
   ]
  },
  {
   "cell_type": "code",
   "execution_count": 13,
   "id": "b1463ec3",
   "metadata": {},
   "outputs": [],
   "source": [
    "#Create a hidden layers\n",
    "model.add(Dense(12, activation='relu'))"
   ]
  },
  {
   "cell_type": "code",
   "execution_count": 14,
   "id": "340a80f4",
   "metadata": {},
   "outputs": [],
   "source": [
    "#Create an output layer\n",
    "model.add(Dense(2, activation='softmax'))"
   ]
  },
  {
   "cell_type": "code",
   "execution_count": 15,
   "id": "580f7e3a",
   "metadata": {},
   "outputs": [],
   "source": [
    "#Compile the model\n",
    "model.compile(loss='categorical_crossentropy', optimizer='adam', metrics=['accuracy'])"
   ]
  },
  {
   "cell_type": "code",
   "execution_count": 16,
   "id": "ca702e4a",
   "metadata": {},
   "outputs": [
    {
     "name": "stdout",
     "output_type": "stream",
     "text": [
      "Epoch 1/100\n",
      "14/14 [==============================] - 0s 767us/step - loss: 0.8521 - accuracy: 0.4498\n",
      "Epoch 2/100\n",
      "14/14 [==============================] - 0s 842us/step - loss: 0.8096 - accuracy: 0.4976\n",
      "Epoch 3/100\n",
      "14/14 [==============================] - 0s 767us/step - loss: 0.7804 - accuracy: 0.5263\n",
      "Epoch 4/100\n",
      "14/14 [==============================] - 0s 759us/step - loss: 0.7514 - accuracy: 0.5502\n",
      "Epoch 5/100\n",
      "14/14 [==============================] - 0s 814us/step - loss: 0.7266 - accuracy: 0.5981\n",
      "Epoch 6/100\n",
      "14/14 [==============================] - 0s 878us/step - loss: 0.7029 - accuracy: 0.6459\n",
      "Epoch 7/100\n",
      "14/14 [==============================] - 0s 1000us/step - loss: 0.6817 - accuracy: 0.6651\n",
      "Epoch 8/100\n",
      "14/14 [==============================] - 0s 1ms/step - loss: 0.6633 - accuracy: 0.6842\n",
      "Epoch 9/100\n",
      "14/14 [==============================] - 0s 1ms/step - loss: 0.6439 - accuracy: 0.7033\n",
      "Epoch 10/100\n",
      "14/14 [==============================] - 0s 997us/step - loss: 0.6260 - accuracy: 0.7129\n",
      "Epoch 11/100\n",
      "14/14 [==============================] - 0s 837us/step - loss: 0.6115 - accuracy: 0.7321\n",
      "Epoch 12/100\n",
      "14/14 [==============================] - 0s 779us/step - loss: 0.5954 - accuracy: 0.7368\n",
      "Epoch 13/100\n",
      "14/14 [==============================] - 0s 861us/step - loss: 0.5803 - accuracy: 0.7416\n",
      "Epoch 14/100\n",
      "14/14 [==============================] - 0s 961us/step - loss: 0.5663 - accuracy: 0.7368\n",
      "Epoch 15/100\n",
      "14/14 [==============================] - 0s 921us/step - loss: 0.5532 - accuracy: 0.7512\n",
      "Epoch 16/100\n",
      "14/14 [==============================] - 0s 995us/step - loss: 0.5410 - accuracy: 0.7560\n",
      "Epoch 17/100\n",
      "14/14 [==============================] - 0s 844us/step - loss: 0.5306 - accuracy: 0.7703\n",
      "Epoch 18/100\n",
      "14/14 [==============================] - 0s 997us/step - loss: 0.5187 - accuracy: 0.7703\n",
      "Epoch 19/100\n",
      "14/14 [==============================] - 0s 997us/step - loss: 0.5078 - accuracy: 0.7751\n",
      "Epoch 20/100\n",
      "14/14 [==============================] - 0s 844us/step - loss: 0.4980 - accuracy: 0.7990\n",
      "Epoch 21/100\n",
      "14/14 [==============================] - ETA: 0s - loss: 0.6226 - accuracy: 0.62 - 0s 925us/step - loss: 0.4880 - accuracy: 0.7990\n",
      "Epoch 22/100\n",
      "14/14 [==============================] - 0s 921us/step - loss: 0.4785 - accuracy: 0.7943\n",
      "Epoch 23/100\n",
      "14/14 [==============================] - 0s 933us/step - loss: 0.4701 - accuracy: 0.7943\n",
      "Epoch 24/100\n",
      "14/14 [==============================] - 0s 997us/step - loss: 0.4627 - accuracy: 0.7895\n",
      "Epoch 25/100\n",
      "14/14 [==============================] - 0s 909us/step - loss: 0.4545 - accuracy: 0.7847\n",
      "Epoch 26/100\n",
      "14/14 [==============================] - 0s 841us/step - loss: 0.4478 - accuracy: 0.7943\n",
      "Epoch 27/100\n",
      "14/14 [==============================] - 0s 844us/step - loss: 0.4411 - accuracy: 0.8038\n",
      "Epoch 28/100\n",
      "14/14 [==============================] - 0s 841us/step - loss: 0.4341 - accuracy: 0.8038\n",
      "Epoch 29/100\n",
      "14/14 [==============================] - 0s 997us/step - loss: 0.4282 - accuracy: 0.8134\n",
      "Epoch 30/100\n",
      "14/14 [==============================] - 0s 921us/step - loss: 0.4244 - accuracy: 0.8134\n",
      "Epoch 31/100\n",
      "14/14 [==============================] - 0s 921us/step - loss: 0.4193 - accuracy: 0.8182\n",
      "Epoch 32/100\n",
      "14/14 [==============================] - 0s 845us/step - loss: 0.4138 - accuracy: 0.8182\n",
      "Epoch 33/100\n",
      "14/14 [==============================] - 0s 767us/step - loss: 0.4088 - accuracy: 0.8182\n",
      "Epoch 34/100\n",
      "14/14 [==============================] - 0s 921us/step - loss: 0.4048 - accuracy: 0.8182\n",
      "Epoch 35/100\n",
      "14/14 [==============================] - 0s 998us/step - loss: 0.4002 - accuracy: 0.8182\n",
      "Epoch 36/100\n",
      "14/14 [==============================] - 0s 997us/step - loss: 0.3960 - accuracy: 0.8230\n",
      "Epoch 37/100\n",
      "14/14 [==============================] - 0s 923us/step - loss: 0.3928 - accuracy: 0.8182\n",
      "Epoch 38/100\n",
      "14/14 [==============================] - 0s 841us/step - loss: 0.3894 - accuracy: 0.8230\n",
      "Epoch 39/100\n",
      "14/14 [==============================] - 0s 768us/step - loss: 0.3867 - accuracy: 0.8230\n",
      "Epoch 40/100\n",
      "14/14 [==============================] - 0s 844us/step - loss: 0.3833 - accuracy: 0.8278\n",
      "Epoch 41/100\n",
      "14/14 [==============================] - 0s 920us/step - loss: 0.3800 - accuracy: 0.8278\n",
      "Epoch 42/100\n",
      "14/14 [==============================] - 0s 921us/step - loss: 0.3772 - accuracy: 0.8325\n",
      "Epoch 43/100\n",
      "14/14 [==============================] - 0s 925us/step - loss: 0.3737 - accuracy: 0.8373\n",
      "Epoch 44/100\n",
      "14/14 [==============================] - 0s 920us/step - loss: 0.3710 - accuracy: 0.8421\n",
      "Epoch 45/100\n",
      "14/14 [==============================] - 0s 1000us/step - loss: 0.3690 - accuracy: 0.8421\n",
      "Epoch 46/100\n",
      "14/14 [==============================] - 0s 1ms/step - loss: 0.3660 - accuracy: 0.8517\n",
      "Epoch 47/100\n",
      "14/14 [==============================] - 0s 997us/step - loss: 0.3640 - accuracy: 0.8517\n",
      "Epoch 48/100\n",
      "14/14 [==============================] - 0s 845us/step - loss: 0.3613 - accuracy: 0.8517\n",
      "Epoch 49/100\n",
      "14/14 [==============================] - 0s 921us/step - loss: 0.3597 - accuracy: 0.8517\n",
      "Epoch 50/100\n",
      "14/14 [==============================] - 0s 922us/step - loss: 0.3575 - accuracy: 0.8517\n",
      "Epoch 51/100\n",
      "14/14 [==============================] - 0s 1ms/step - loss: 0.3557 - accuracy: 0.8517\n",
      "Epoch 52/100\n",
      "14/14 [==============================] - 0s 997us/step - loss: 0.3536 - accuracy: 0.8517\n",
      "Epoch 53/100\n",
      "14/14 [==============================] - 0s 918us/step - loss: 0.3513 - accuracy: 0.8517\n",
      "Epoch 54/100\n",
      "14/14 [==============================] - 0s 1ms/step - loss: 0.3502 - accuracy: 0.8517\n",
      "Epoch 55/100\n",
      "14/14 [==============================] - 0s 1000us/step - loss: 0.3493 - accuracy: 0.8565\n",
      "Epoch 56/100\n",
      "14/14 [==============================] - 0s 997us/step - loss: 0.3480 - accuracy: 0.8565\n",
      "Epoch 57/100\n",
      "14/14 [==============================] - 0s 941us/step - loss: 0.3446 - accuracy: 0.8565\n",
      "Epoch 58/100\n",
      "14/14 [==============================] - 0s 770us/step - loss: 0.3462 - accuracy: 0.8565\n",
      "Epoch 59/100\n",
      "14/14 [==============================] - 0s 603us/step - loss: 0.3451 - accuracy: 0.8565\n",
      "Epoch 60/100\n",
      "14/14 [==============================] - 0s 693us/step - loss: 0.3432 - accuracy: 0.8565\n",
      "Epoch 61/100\n",
      "14/14 [==============================] - 0s 770us/step - loss: 0.3419 - accuracy: 0.8565\n",
      "Epoch 62/100\n",
      "14/14 [==============================] - 0s 767us/step - loss: 0.3403 - accuracy: 0.8565\n",
      "Epoch 63/100\n",
      "14/14 [==============================] - 0s 650us/step - loss: 0.3388 - accuracy: 0.8565\n",
      "Epoch 64/100\n",
      "14/14 [==============================] - 0s 770us/step - loss: 0.3376 - accuracy: 0.8565\n",
      "Epoch 65/100\n",
      "14/14 [==============================] - 0s 767us/step - loss: 0.3375 - accuracy: 0.8612\n",
      "Epoch 66/100\n",
      "14/14 [==============================] - 0s 769us/step - loss: 0.3362 - accuracy: 0.8612\n",
      "Epoch 67/100\n",
      "14/14 [==============================] - 0s 666us/step - loss: 0.3351 - accuracy: 0.8612\n",
      "Epoch 68/100\n",
      "14/14 [==============================] - 0s 682us/step - loss: 0.3333 - accuracy: 0.8565\n",
      "Epoch 69/100\n",
      "14/14 [==============================] - 0s 767us/step - loss: 0.3322 - accuracy: 0.8565\n",
      "Epoch 70/100\n",
      "14/14 [==============================] - 0s 690us/step - loss: 0.3313 - accuracy: 0.8565\n",
      "Epoch 71/100\n",
      "14/14 [==============================] - 0s 756us/step - loss: 0.3301 - accuracy: 0.8565\n",
      "Epoch 72/100\n",
      "14/14 [==============================] - 0s 844us/step - loss: 0.3291 - accuracy: 0.8565\n",
      "Epoch 73/100\n",
      "14/14 [==============================] - 0s 962us/step - loss: 0.3280 - accuracy: 0.8565\n",
      "Epoch 74/100\n",
      "14/14 [==============================] - 0s 844us/step - loss: 0.3271 - accuracy: 0.8565\n",
      "Epoch 75/100\n",
      "14/14 [==============================] - 0s 699us/step - loss: 0.3259 - accuracy: 0.8565\n",
      "Epoch 76/100\n",
      "14/14 [==============================] - 0s 694us/step - loss: 0.3253 - accuracy: 0.8612\n",
      "Epoch 77/100\n",
      "14/14 [==============================] - 0s 782us/step - loss: 0.3243 - accuracy: 0.8612\n",
      "Epoch 78/100\n",
      "14/14 [==============================] - 0s 795us/step - loss: 0.3235 - accuracy: 0.8612\n",
      "Epoch 79/100\n",
      "14/14 [==============================] - 0s 704us/step - loss: 0.3226 - accuracy: 0.8612\n",
      "Epoch 80/100\n",
      "14/14 [==============================] - 0s 844us/step - loss: 0.3218 - accuracy: 0.8612\n",
      "Epoch 81/100\n"
     ]
    },
    {
     "name": "stdout",
     "output_type": "stream",
     "text": [
      "14/14 [==============================] - 0s 844us/step - loss: 0.3208 - accuracy: 0.8612\n",
      "Epoch 82/100\n",
      "14/14 [==============================] - 0s 844us/step - loss: 0.3200 - accuracy: 0.8612\n",
      "Epoch 83/100\n",
      "14/14 [==============================] - 0s 766us/step - loss: 0.3191 - accuracy: 0.8612\n",
      "Epoch 84/100\n",
      "14/14 [==============================] - 0s 635us/step - loss: 0.3185 - accuracy: 0.8612\n",
      "Epoch 85/100\n",
      "14/14 [==============================] - 0s 921us/step - loss: 0.3178 - accuracy: 0.8612\n",
      "Epoch 86/100\n",
      "14/14 [==============================] - 0s 919us/step - loss: 0.3170 - accuracy: 0.8612\n",
      "Epoch 87/100\n",
      "14/14 [==============================] - 0s 845us/step - loss: 0.3167 - accuracy: 0.8612\n",
      "Epoch 88/100\n",
      "14/14 [==============================] - 0s 688us/step - loss: 0.3154 - accuracy: 0.8612\n",
      "Epoch 89/100\n",
      "14/14 [==============================] - 0s 997us/step - loss: 0.3149 - accuracy: 0.8612\n",
      "Epoch 90/100\n",
      "14/14 [==============================] - 0s 913us/step - loss: 0.3140 - accuracy: 0.8660\n",
      "Epoch 91/100\n",
      "14/14 [==============================] - 0s 918us/step - loss: 0.3134 - accuracy: 0.8660\n",
      "Epoch 92/100\n",
      "14/14 [==============================] - 0s 921us/step - loss: 0.3128 - accuracy: 0.8612\n",
      "Epoch 93/100\n",
      "14/14 [==============================] - 0s 691us/step - loss: 0.3119 - accuracy: 0.8612\n",
      "Epoch 94/100\n",
      "14/14 [==============================] - 0s 844us/step - loss: 0.3117 - accuracy: 0.8565\n",
      "Epoch 95/100\n",
      "14/14 [==============================] - 0s 846us/step - loss: 0.3111 - accuracy: 0.8565\n",
      "Epoch 96/100\n",
      "14/14 [==============================] - 0s 760us/step - loss: 0.3101 - accuracy: 0.8565\n",
      "Epoch 97/100\n",
      "14/14 [==============================] - 0s 920us/step - loss: 0.3097 - accuracy: 0.8660\n",
      "Epoch 98/100\n",
      "14/14 [==============================] - 0s 926us/step - loss: 0.3088 - accuracy: 0.8612\n",
      "Epoch 99/100\n",
      "14/14 [==============================] - 0s 844us/step - loss: 0.3082 - accuracy: 0.8612\n",
      "Epoch 100/100\n",
      "14/14 [==============================] - 0s 866us/step - loss: 0.3078 - accuracy: 0.8660\n"
     ]
    }
   ],
   "source": [
    "#Train and evaluate the model\n",
    "model.fit(X_train, Y_train, epochs=100, batch_size=16, verbose=1)\n",
    "loss, acc = model.evaluate(X_test, Y_test, verbose=0)"
   ]
  },
  {
   "cell_type": "code",
   "execution_count": 17,
   "id": "e86d61a0",
   "metadata": {},
   "outputs": [
    {
     "name": "stdout",
     "output_type": "stream",
     "text": [
      "              precision    recall  f1-score   support\n",
      "\n",
      "           0       0.80      0.92      0.86        62\n",
      "           1       0.74      0.50      0.60        28\n",
      "\n",
      "    accuracy                           0.79        90\n",
      "   macro avg       0.77      0.71      0.73        90\n",
      "weighted avg       0.78      0.79      0.78        90\n",
      "\n"
     ]
    }
   ],
   "source": [
    "#generating a classification report\n",
    "y_estimate = model.predict(X_test, verbose=0)\n",
    "y_estimate = np.argmax(y_estimate, axis=1)\n",
    "y_true = np.argmax(Y_test, axis=1)\n",
    "print(classification_report(y_true, y_estimate))"
   ]
  },
  {
   "cell_type": "code",
   "execution_count": null,
   "id": "8d142b35",
   "metadata": {},
   "outputs": [],
   "source": []
  }
 ],
 "metadata": {
  "kernelspec": {
   "display_name": "Python 3 (ipykernel)",
   "language": "python",
   "name": "python3"
  },
  "language_info": {
   "codemirror_mode": {
    "name": "ipython",
    "version": 3
   },
   "file_extension": ".py",
   "mimetype": "text/x-python",
   "name": "python",
   "nbconvert_exporter": "python",
   "pygments_lexer": "ipython3",
   "version": "3.9.6"
  }
 },
 "nbformat": 4,
 "nbformat_minor": 5
}
